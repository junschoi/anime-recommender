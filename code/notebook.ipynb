{
 "cells": [
  {
   "cell_type": "code",
   "execution_count": 1,
   "metadata": {
    "ExecuteTime": {
     "end_time": "2021-02-26T13:19:38.650817Z",
     "start_time": "2021-02-26T13:19:36.240277Z"
    }
   },
   "outputs": [],
   "source": [
    "# Importing libraries\n",
    "import os\n",
    "import numpy as np\n",
    "import pandas as pd\n",
    "import matplotlib.pyplot as plt\n",
    "import seaborn as sns\n",
    "import json\n",
    "import datetime\n",
    "from sklearn.feature_extraction.text import TfidfVectorizer\n",
    "from sklearn.metrics.pairwise import cosine_similarity"
   ]
  },
  {
   "source": [
    "# Reading top anime data"
   ],
   "cell_type": "markdown",
   "metadata": {}
  },
  {
   "cell_type": "code",
   "execution_count": 2,
   "metadata": {
    "ExecuteTime": {
     "end_time": "2021-02-26T13:19:38.666821Z",
     "start_time": "2021-02-26T13:19:38.652819Z"
    }
   },
   "outputs": [
    {
     "output_type": "execute_result",
     "data": {
      "text/plain": [
       "['top_anime.json', 'user_cleaned.csv', 'user_lst_03092021.json']"
      ]
     },
     "metadata": {},
     "execution_count": 2
    }
   ],
   "source": [
    "# Files in the data directory\n",
    "os.listdir('../data')"
   ]
  },
  {
   "cell_type": "code",
   "execution_count": 3,
   "metadata": {
    "ExecuteTime": {
     "end_time": "2021-02-26T13:19:39.874091Z",
     "start_time": "2021-02-26T13:19:38.668823Z"
    }
   },
   "outputs": [],
   "source": [
    "# This data was collected on Feb. 27, 2021\n",
    "with open('../data/top_anime.json') as f:\n",
    "    data = json.load(f)"
   ]
  },
  {
   "cell_type": "code",
   "execution_count": 4,
   "metadata": {},
   "outputs": [],
   "source": [
    "# List of columns\n",
    "columns = [\n",
    "    'mal_id',\n",
    "    'url',\n",
    "    'image_url',\n",
    "    'trailer_url',\n",
    "    'title',\n",
    "    'title_japanese',\n",
    "    'type',\n",
    "    'source',\n",
    "    'episodes',\n",
    "    'status',\n",
    "    'rating',\n",
    "    'score',\n",
    "    'rank',\n",
    "    'popularity',\n",
    "    'members',\n",
    "    'favorites',\n",
    "    'synopsis',\n",
    "    'premiered',\n",
    "    'studios',\n",
    "    'genres'\n",
    "]"
   ]
  },
  {
   "cell_type": "code",
   "execution_count": 5,
   "metadata": {},
   "outputs": [],
   "source": [
    "# Creating pd.DataFrame object with above columns\n",
    "df = pd.DataFrame(columns=columns)"
   ]
  },
  {
   "cell_type": "code",
   "execution_count": 6,
   "metadata": {},
   "outputs": [],
   "source": [
    "# Adding top anime data to df\n",
    "for col in columns:\n",
    "    if not col in ['studios', 'genres']:\n",
    "        df[col] = [ele[col] for ele in data]\n",
    "    else:\n",
    "        df[col] = [','.join([ele['name'] for ele in anime[col]]) for anime in data]"
   ]
  },
  {
   "cell_type": "code",
   "execution_count": 7,
   "metadata": {},
   "outputs": [],
   "source": [
    "# Cleaning data\n",
    "\n",
    "# Only including anime\n",
    "df = df.loc[df['type']=='TV']\n",
    "\n",
    "# Drop dupplicates\n",
    "df = df.drop_duplicates(subset='mal_id', keep='last')\n",
    "\n",
    "# Drop anime without rating\n",
    "df = df.loc[~df['score'].isnull()]\n",
    "\n",
    "# Filling NaN in 'synopsis' column with blank string\n",
    "df['synopsis'] = df['synopsis'].fillna('')"
   ]
  },
  {
   "cell_type": "code",
   "execution_count": 8,
   "metadata": {},
   "outputs": [
    {
     "output_type": "stream",
     "name": "stdout",
     "text": [
      "(3729, 20)\n"
     ]
    }
   ],
   "source": [
    "# Printing number of rows and columns\n",
    "print(df.shape)"
   ]
  },
  {
   "source": [
    "# Content-based recommender"
   ],
   "cell_type": "markdown",
   "metadata": {}
  },
  {
   "cell_type": "code",
   "execution_count": 9,
   "metadata": {},
   "outputs": [],
   "source": [
    "# Synopsis matrix using TfidfVectorizer\n",
    "tf_synop = TfidfVectorizer(stop_words='english', ngram_range=(1,2), min_df=10)\n",
    "tf_synop_matrix = tf_synop.fit_transform(df['synopsis'])"
   ]
  },
  {
   "cell_type": "code",
   "execution_count": 10,
   "metadata": {},
   "outputs": [],
   "source": [
    "# Genre matrix\n",
    "# Dropping 'Cars', 'Dementia', and 'Police' genres\n",
    "genre_matrix = df['genres'].str.get_dummies(sep=',').drop(columns=['Cars', 'Dementia', 'Police']).to_numpy()"
   ]
  },
  {
   "cell_type": "code",
   "execution_count": 11,
   "metadata": {},
   "outputs": [],
   "source": [
    "# Concatenating synopsis matrix, genre matrix, and score matrix\n",
    "matrix = np.concatenate((tf_synop_matrix.toarray(), genre_matrix), axis=1)"
   ]
  },
  {
   "cell_type": "code",
   "execution_count": 12,
   "metadata": {},
   "outputs": [],
   "source": [
    "# Cosine similarity matrix\n",
    "cosine_sim = cosine_similarity(matrix, matrix)"
   ]
  },
  {
   "cell_type": "code",
   "execution_count": 13,
   "metadata": {},
   "outputs": [
    {
     "output_type": "execute_result",
     "data": {
      "text/plain": [
       "title\n",
       "Fullmetal Alchemist: Brotherhood                  0\n",
       "Shingeki no Kyojin: The Final Season              1\n",
       "Shingeki no Kyojin Season 3 Part 2                2\n",
       "Steins;Gate                                       3\n",
       "Gintama°                                          4\n",
       "                                               ... \n",
       "Netsuzou TRap                                  9984\n",
       "Ginyuu Mokushiroku Meine Liebe                 9990\n",
       "Girls Bravo: First Season                      9991\n",
       "Gyakuten Saiban: Sono \"Shinjitsu\", Igi Ari!    9996\n",
       "Kaibutsu-kun (1980)                            9998\n",
       "Length: 3729, dtype: int64"
      ]
     },
     "metadata": {},
     "execution_count": 13
    }
   ],
   "source": [
    "# Indices\n",
    "indices = pd.Series(df.index, index=df['title'])\n",
    "indices"
   ]
  },
  {
   "source": [
    "# Testing content-based recommender"
   ],
   "cell_type": "markdown",
   "metadata": {}
  },
  {
   "cell_type": "code",
   "execution_count": 14,
   "metadata": {},
   "outputs": [],
   "source": [
    "# Adding cosine_sim column\n",
    "anime = 'Shingeki no Kyojin Season 3 Part 2'\n",
    "df['cosine_sim'] = list(cosine_sim[indices[anime]])"
   ]
  },
  {
   "cell_type": "code",
   "execution_count": 15,
   "metadata": {},
   "outputs": [
    {
     "output_type": "execute_result",
     "data": {
      "text/plain": [
       "                                                  title  score  cosine_sim\n",
       "128                         Shingeki no Kyojin Season 2   8.45    0.928812\n",
       "1                  Shingeki no Kyojin: The Final Season   9.16    0.914079\n",
       "65                          Shingeki no Kyojin Season 3   8.60    0.903368\n",
       "114                                  Shingeki no Kyojin   8.48    0.902037\n",
       "6375                  Katsute Kami Datta Kemono-tachi e   6.41    0.725576\n",
       "2827                                  Kaze no Youjinbou   7.19    0.639826\n",
       "548                                  Zetsuen no Tempest   7.99    0.626300\n",
       "94                                            One Piece   8.52    0.625896\n",
       "1246                                         GetBackers   7.61    0.625000\n",
       "3455  Concrete Revolutio: Choujin Gensou - The Last ...   7.05    0.600351\n",
       "0                      Fullmetal Alchemist: Brotherhood   9.19    0.593283\n",
       "337                                 Fullmetal Alchemist   8.17    0.593070\n",
       "1280                       Tsubasa Chronicle 2nd Season   7.60    0.592590\n",
       "4853                 Concrete Revolutio: Choujin Gensou   6.71    0.592384\n",
       "144                                     Hunter x Hunter   8.42    0.584950\n",
       "1037                      Shin Mazinger Shougeki! Z-hen   7.71    0.583837\n",
       "2382                                      Darwin's Game   7.29    0.583165\n",
       "8115                                  Gunjou no Magmell   6.03    0.582772\n",
       "2775                    Kujira no Kora wa Sajou ni Utau   7.20    0.582052"
      ],
      "text/html": "<div>\n<style scoped>\n    .dataframe tbody tr th:only-of-type {\n        vertical-align: middle;\n    }\n\n    .dataframe tbody tr th {\n        vertical-align: top;\n    }\n\n    .dataframe thead th {\n        text-align: right;\n    }\n</style>\n<table border=\"1\" class=\"dataframe\">\n  <thead>\n    <tr style=\"text-align: right;\">\n      <th></th>\n      <th>title</th>\n      <th>score</th>\n      <th>cosine_sim</th>\n    </tr>\n  </thead>\n  <tbody>\n    <tr>\n      <th>128</th>\n      <td>Shingeki no Kyojin Season 2</td>\n      <td>8.45</td>\n      <td>0.928812</td>\n    </tr>\n    <tr>\n      <th>1</th>\n      <td>Shingeki no Kyojin: The Final Season</td>\n      <td>9.16</td>\n      <td>0.914079</td>\n    </tr>\n    <tr>\n      <th>65</th>\n      <td>Shingeki no Kyojin Season 3</td>\n      <td>8.60</td>\n      <td>0.903368</td>\n    </tr>\n    <tr>\n      <th>114</th>\n      <td>Shingeki no Kyojin</td>\n      <td>8.48</td>\n      <td>0.902037</td>\n    </tr>\n    <tr>\n      <th>6375</th>\n      <td>Katsute Kami Datta Kemono-tachi e</td>\n      <td>6.41</td>\n      <td>0.725576</td>\n    </tr>\n    <tr>\n      <th>2827</th>\n      <td>Kaze no Youjinbou</td>\n      <td>7.19</td>\n      <td>0.639826</td>\n    </tr>\n    <tr>\n      <th>548</th>\n      <td>Zetsuen no Tempest</td>\n      <td>7.99</td>\n      <td>0.626300</td>\n    </tr>\n    <tr>\n      <th>94</th>\n      <td>One Piece</td>\n      <td>8.52</td>\n      <td>0.625896</td>\n    </tr>\n    <tr>\n      <th>1246</th>\n      <td>GetBackers</td>\n      <td>7.61</td>\n      <td>0.625000</td>\n    </tr>\n    <tr>\n      <th>3455</th>\n      <td>Concrete Revolutio: Choujin Gensou - The Last ...</td>\n      <td>7.05</td>\n      <td>0.600351</td>\n    </tr>\n    <tr>\n      <th>0</th>\n      <td>Fullmetal Alchemist: Brotherhood</td>\n      <td>9.19</td>\n      <td>0.593283</td>\n    </tr>\n    <tr>\n      <th>337</th>\n      <td>Fullmetal Alchemist</td>\n      <td>8.17</td>\n      <td>0.593070</td>\n    </tr>\n    <tr>\n      <th>1280</th>\n      <td>Tsubasa Chronicle 2nd Season</td>\n      <td>7.60</td>\n      <td>0.592590</td>\n    </tr>\n    <tr>\n      <th>4853</th>\n      <td>Concrete Revolutio: Choujin Gensou</td>\n      <td>6.71</td>\n      <td>0.592384</td>\n    </tr>\n    <tr>\n      <th>144</th>\n      <td>Hunter x Hunter</td>\n      <td>8.42</td>\n      <td>0.584950</td>\n    </tr>\n    <tr>\n      <th>1037</th>\n      <td>Shin Mazinger Shougeki! Z-hen</td>\n      <td>7.71</td>\n      <td>0.583837</td>\n    </tr>\n    <tr>\n      <th>2382</th>\n      <td>Darwin's Game</td>\n      <td>7.29</td>\n      <td>0.583165</td>\n    </tr>\n    <tr>\n      <th>8115</th>\n      <td>Gunjou no Magmell</td>\n      <td>6.03</td>\n      <td>0.582772</td>\n    </tr>\n    <tr>\n      <th>2775</th>\n      <td>Kujira no Kora wa Sajou ni Utau</td>\n      <td>7.20</td>\n      <td>0.582052</td>\n    </tr>\n  </tbody>\n</table>\n</div>"
     },
     "metadata": {},
     "execution_count": 15
    }
   ],
   "source": [
    "df.sort_values(by='cosine_sim', ascending=False)[['title', 'score', 'cosine_sim']][1:20]"
   ]
  },
  {
   "source": [
    "# Creating collaborative recommender"
   ],
   "cell_type": "markdown",
   "metadata": {}
  },
  {
   "cell_type": "code",
   "execution_count": 16,
   "metadata": {},
   "outputs": [],
   "source": [
    "# Reading user_cleaned.csv\n",
    "user_df = pd.read_csv(\"../data/user_cleaned.csv\")"
   ]
  },
  {
   "cell_type": "code",
   "execution_count": 17,
   "metadata": {},
   "outputs": [],
   "source": [
    "# Only including anime\n",
    "user_df = user_df.loc[user_df['type']=='TV']"
   ]
  },
  {
   "cell_type": "code",
   "execution_count": 18,
   "metadata": {},
   "outputs": [
    {
     "output_type": "execute_result",
     "data": {
      "text/plain": [
       "           username  mal_id                 title  score type\n",
       "2  --hasuki_komai--    6682                11eyes      6   TV\n",
       "4  --hasuki_komai--   38101  5-toubun no Hanayome      6   TV\n",
       "5  --hasuki_komai--   25397          Absolute Duo      6   TV\n",
       "6  --hasuki_komai--   11759           Accel World      6   TV\n",
       "8  --hasuki_komai--   34881              Aho Girl      5   TV"
      ],
      "text/html": "<div>\n<style scoped>\n    .dataframe tbody tr th:only-of-type {\n        vertical-align: middle;\n    }\n\n    .dataframe tbody tr th {\n        vertical-align: top;\n    }\n\n    .dataframe thead th {\n        text-align: right;\n    }\n</style>\n<table border=\"1\" class=\"dataframe\">\n  <thead>\n    <tr style=\"text-align: right;\">\n      <th></th>\n      <th>username</th>\n      <th>mal_id</th>\n      <th>title</th>\n      <th>score</th>\n      <th>type</th>\n    </tr>\n  </thead>\n  <tbody>\n    <tr>\n      <th>2</th>\n      <td>--hasuki_komai--</td>\n      <td>6682</td>\n      <td>11eyes</td>\n      <td>6</td>\n      <td>TV</td>\n    </tr>\n    <tr>\n      <th>4</th>\n      <td>--hasuki_komai--</td>\n      <td>38101</td>\n      <td>5-toubun no Hanayome</td>\n      <td>6</td>\n      <td>TV</td>\n    </tr>\n    <tr>\n      <th>5</th>\n      <td>--hasuki_komai--</td>\n      <td>25397</td>\n      <td>Absolute Duo</td>\n      <td>6</td>\n      <td>TV</td>\n    </tr>\n    <tr>\n      <th>6</th>\n      <td>--hasuki_komai--</td>\n      <td>11759</td>\n      <td>Accel World</td>\n      <td>6</td>\n      <td>TV</td>\n    </tr>\n    <tr>\n      <th>8</th>\n      <td>--hasuki_komai--</td>\n      <td>34881</td>\n      <td>Aho Girl</td>\n      <td>5</td>\n      <td>TV</td>\n    </tr>\n  </tbody>\n</table>\n</div>"
     },
     "metadata": {},
     "execution_count": 18
    }
   ],
   "source": [
    "# Viewing first 5 rows of user_df\n",
    "user_df.head()"
   ]
  },
  {
   "source": [
    "# Item-item collaborative recommender"
   ],
   "cell_type": "markdown",
   "metadata": {}
  },
  {
   "cell_type": "code",
   "execution_count": 19,
   "metadata": {
    "ExecuteTime": {
     "end_time": "2021-02-26T13:19:57.108953Z",
     "start_time": "2021-02-26T13:19:41.652491Z"
    }
   },
   "outputs": [],
   "source": [
    "# Creating a pivot table for collaborative recommender\n",
    "pivot = user_df.pivot_table(values='score', index='title', columns='username')"
   ]
  },
  {
   "cell_type": "code",
   "execution_count": 20,
   "metadata": {},
   "outputs": [],
   "source": [
    "# Dropping users without any anime reviews\n",
    "pivot = pivot.dropna(axis=0, how='all')"
   ]
  },
  {
   "cell_type": "code",
   "execution_count": 21,
   "metadata": {},
   "outputs": [],
   "source": [
    "# Filling NaN with 0s\n",
    "pivot = pivot.fillna(0)"
   ]
  },
  {
   "cell_type": "code",
   "execution_count": 22,
   "metadata": {},
   "outputs": [],
   "source": [
    "# Identifying animes from user_df that are in top_anime and\n",
    "# identifying animes from user_df that are not in top_anime\n",
    "\n",
    "include_anime = []\n",
    "drop_anime = []\n",
    "for title in user_df['title'].unique():\n",
    "    if title in df['title'].unique():\n",
    "        include_anime.append(title)\n",
    "    else:\n",
    "        drop_anime.append(title)"
   ]
  },
  {
   "cell_type": "code",
   "execution_count": 23,
   "metadata": {},
   "outputs": [],
   "source": [
    "# Dropping animes that are not in top_anime\n",
    "pivot = pivot.drop(drop_anime)"
   ]
  },
  {
   "cell_type": "code",
   "execution_count": 24,
   "metadata": {},
   "outputs": [],
   "source": [
    "# Creating item_sim_df using cosine_similarity\n",
    "item_sim_df = pd.DataFrame(cosine_similarity(pivot, pivot), index=pivot.index, columns=pivot.index)"
   ]
  },
  {
   "cell_type": "code",
   "execution_count": 25,
   "metadata": {},
   "outputs": [],
   "source": [
    "def recommend_similar_animes(anime):\n",
    "    \"\"\"\n",
    "    Returns a list of recommended animes and cosine similarity scores based on anime input. \n",
    "    \"\"\"\n",
    "    if anime not in pivot.index:\n",
    "        return None, None\n",
    "    else:\n",
    "        sim_animes = item_sim_df.sort_values(by=anime, ascending=False).index[1:]\n",
    "        sim_scores = item_sim_df.sort_values(by=anime, ascending=False).loc[:, anime].tolist()[1:]\n",
    "        return sim_animes, sim_scores"
   ]
  },
  {
   "cell_type": "code",
   "execution_count": 26,
   "metadata": {},
   "outputs": [],
   "source": [
    "sim_animes, sim_score = recommend_similar_animes(\"Shingeki no Kyojin Season 3 Part 2\")"
   ]
  },
  {
   "cell_type": "code",
   "execution_count": 27,
   "metadata": {},
   "outputs": [
    {
     "output_type": "stream",
     "name": "stdout",
     "text": [
      "Shingeki no Kyojin Season 3 0.9028301498561447\nShingeki no Kyojin Season 2 0.7852675494861486\nShingeki no Kyojin 0.6284973457263251\nYakusoku no Neverland 0.6186378270998584\nKimetsu no Yaiba 0.6112405519004415\nOne Punch Man 2nd Season 0.5464097847678064\nOne Punch Man 0.5323816072173391\nSeishun Buta Yarou wa Bunny Girl Senpai no Yume wo Minai 0.5318244603818986\nBoku no Hero Academia 3rd Season 0.5250242348681234\nRe:Zero kara Hajimeru Isekai Seikatsu 0.5228894598565462\nBoku no Hero Academia 2nd Season 0.51117392369407\nMob Psycho 100 II 0.5057781168925408\nKaguya-sama wa Kokurasetai: Tensai-tachi no Renai Zunousen 0.5037259908571896\nTokyo Ghoul 0.49938110160497573\nTate no Yuusha no Nariagari 0.49734769943935814\nBoku no Hero Academia 0.49568870209462246\nVinland Saga 0.4931060185309363\nRe:Zero kara Hajimeru Isekai Seikatsu 2nd Season 0.48900339979789975\nBoku no Hero Academia 4th Season 0.48382361673008584\nMob Psycho 100 0.48017968621543605\n"
     ]
    }
   ],
   "source": [
    "for anime, score in zip(sim_animes[:20], sim_score[:20]):\n",
    "    print(anime, score)"
   ]
  }
 ],
 "metadata": {
  "kernelspec": {
   "display_name": "Python 3",
   "language": "python",
   "name": "python3"
  },
  "language_info": {
   "codemirror_mode": {
    "name": "ipython",
    "version": 3
   },
   "file_extension": ".py",
   "mimetype": "text/x-python",
   "name": "python",
   "nbconvert_exporter": "python",
   "pygments_lexer": "ipython3",
   "version": "3.8.5-final"
  }
 },
 "nbformat": 4,
 "nbformat_minor": 4
}