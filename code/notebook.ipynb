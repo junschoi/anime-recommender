{
 "cells": [
  {
   "cell_type": "code",
   "execution_count": 1,
   "metadata": {
    "ExecuteTime": {
     "end_time": "2021-02-26T13:19:38.650817Z",
     "start_time": "2021-02-26T13:19:36.240277Z"
    }
   },
   "outputs": [],
   "source": [
    "# Importing libraries\n",
    "import os\n",
    "import numpy as np\n",
    "import pandas as pd\n",
    "import matplotlib.pyplot as plt\n",
    "import seaborn as sns\n",
    "import json\n",
    "import datetime\n",
    "from sklearn.feature_extraction.text import TfidfVectorizer\n",
    "from sklearn.metrics.pairwise import cosine_similarity"
   ]
  },
  {
   "source": [
    "# Reading top anime data"
   ],
   "cell_type": "markdown",
   "metadata": {}
  },
  {
   "cell_type": "code",
   "execution_count": 2,
   "metadata": {
    "ExecuteTime": {
     "end_time": "2021-02-26T13:19:38.666821Z",
     "start_time": "2021-02-26T13:19:38.652819Z"
    }
   },
   "outputs": [
    {
     "output_type": "execute_result",
     "data": {
      "text/plain": [
       "['top_anime.json', 'user_cleaned.csv', 'user_lst.json']"
      ]
     },
     "metadata": {},
     "execution_count": 2
    }
   ],
   "source": [
    "# Files in the data directory\n",
    "os.listdir('../data')"
   ]
  },
  {
   "cell_type": "code",
   "execution_count": 3,
   "metadata": {
    "ExecuteTime": {
     "end_time": "2021-02-26T13:19:39.874091Z",
     "start_time": "2021-02-26T13:19:38.668823Z"
    }
   },
   "outputs": [],
   "source": [
    "# This data was collected on Feb. 27, 2021\n",
    "with open('../data/top_anime.json') as f:\n",
    "    data = json.load(f)"
   ]
  },
  {
   "cell_type": "code",
   "execution_count": 4,
   "metadata": {},
   "outputs": [],
   "source": [
    "# List of columns\n",
    "columns = [\n",
    "    'mal_id',\n",
    "    'url',\n",
    "    'image_url',\n",
    "    'trailer_url',\n",
    "    'title',\n",
    "    'title_japanese',\n",
    "    'type',\n",
    "    'source',\n",
    "    'episodes',\n",
    "    'status',\n",
    "    'rating',\n",
    "    'score',\n",
    "    'rank',\n",
    "    'popularity',\n",
    "    'members',\n",
    "    'favorites',\n",
    "    'synopsis',\n",
    "    'premiered',\n",
    "    'studios',\n",
    "    'genres'\n",
    "]"
   ]
  },
  {
   "cell_type": "code",
   "execution_count": 5,
   "metadata": {},
   "outputs": [],
   "source": [
    "# Creating pd.DataFrame object with above columns\n",
    "df = pd.DataFrame(columns=columns)"
   ]
  },
  {
   "cell_type": "code",
   "execution_count": 6,
   "metadata": {},
   "outputs": [],
   "source": [
    "# Adding top anime data to df\n",
    "for col in columns:\n",
    "    if not col in ['studios', 'genres']:\n",
    "        df[col] = [ele[col] for ele in data]\n",
    "    else:\n",
    "        df[col] = [','.join([ele['name'] for ele in anime[col]]) for anime in data]"
   ]
  },
  {
   "cell_type": "code",
   "execution_count": 7,
   "metadata": {},
   "outputs": [
    {
     "output_type": "execute_result",
     "data": {
      "text/plain": [
       "0       Action,Military,Adventure,Comedy,Drama,Magic,F...\n",
       "1       Action,Military,Mystery,Super Power,Drama,Fant...\n",
       "2       Action,Drama,Fantasy,Military,Mystery,Shounen,...\n",
       "3                                         Thriller,Sci-Fi\n",
       "4       Action,Comedy,Historical,Parody,Samurai,Sci-Fi...\n",
       "                              ...                        \n",
       "9995                                 Drama,Romance,School\n",
       "9996                          Comedy,Drama,Mystery,Police\n",
       "9997                   Drama,Mystery,Psychological,Seinen\n",
       "9998                                   Comedy,Horror,Kids\n",
       "9999                                         Comedy,Magic\n",
       "Name: genres, Length: 10000, dtype: object"
      ]
     },
     "metadata": {},
     "execution_count": 7
    }
   ],
   "source": [
    "df['genres']"
   ]
  },
  {
   "cell_type": "code",
   "execution_count": 8,
   "metadata": {},
   "outputs": [],
   "source": [
    "# Cleaning data\n",
    "\n",
    "# Only including anime\n",
    "df = df.loc[df['type']=='TV']\n",
    "\n",
    "# Drop dupplicates\n",
    "df = df.drop_duplicates(subset='mal_id', keep='last')\n",
    "\n",
    "# Drop anime without rating\n",
    "df = df.loc[~df['score'].isnull()]\n",
    "\n",
    "# Filling NaN in 'synopsis' column with blank string\n",
    "df['synopsis'] = df['synopsis'].fillna('')"
   ]
  },
  {
   "cell_type": "code",
   "execution_count": 9,
   "metadata": {},
   "outputs": [
    {
     "output_type": "stream",
     "name": "stdout",
     "text": [
      "(3729, 20)\n"
     ]
    }
   ],
   "source": [
    "# Printing number of rows and columns\n",
    "print(df.shape)"
   ]
  },
  {
   "source": [
    "# Content-based recommender"
   ],
   "cell_type": "markdown",
   "metadata": {}
  },
  {
   "cell_type": "code",
   "execution_count": 10,
   "metadata": {},
   "outputs": [],
   "source": [
    "# Synopsis matrix using TfidfVectorizer\n",
    "tf_synop = TfidfVectorizer(stop_words='english', ngram_range=(1,2), min_df=10)\n",
    "tf_synop_matrix = tf_synop.fit_transform(df['synopsis'])"
   ]
  },
  {
   "cell_type": "code",
   "execution_count": 11,
   "metadata": {},
   "outputs": [],
   "source": [
    "# Genre matrix\n",
    "# Dropping 'Cars', 'Dementia', and 'Police' genres\n",
    "# genre_matrix = df['genres'].str.get_dummies(sep=',').drop(columns=['Cars', 'Dementia', 'Police']).to_numpy()\n",
    "genre_matrix = df['genres'].str.get_dummies(sep=',').to_numpy()"
   ]
  },
  {
   "cell_type": "code",
   "execution_count": 12,
   "metadata": {},
   "outputs": [],
   "source": [
    "# Concatenating synopsis matrix, genre matrix, and score matrix\n",
    "matrix = np.concatenate((tf_synop_matrix.toarray(), genre_matrix), axis=1)"
   ]
  },
  {
   "cell_type": "code",
   "execution_count": 13,
   "metadata": {},
   "outputs": [],
   "source": [
    "# Cosine similarity matrix\n",
    "cosine_sim_content = pd.DataFrame(cosine_similarity(matrix, matrix), index=df['title'], columns=df['title'])"
   ]
  },
  {
   "cell_type": "code",
   "execution_count": 14,
   "metadata": {},
   "outputs": [
    {
     "output_type": "execute_result",
     "data": {
      "text/plain": [
       "title\n",
       "Shingeki no Kyojin Season 2                           0.928812\n",
       "Shingeki no Kyojin: The Final Season                  0.914079\n",
       "Shingeki no Kyojin Season 3                           0.903368\n",
       "Shingeki no Kyojin                                    0.902037\n",
       "Katsute Kami Datta Kemono-tachi e                     0.725576\n",
       "Kaze no Youjinbou                                     0.639826\n",
       "Zetsuen no Tempest                                    0.626300\n",
       "One Piece                                             0.625896\n",
       "GetBackers                                            0.625000\n",
       "Concrete Revolutio: Choujin Gensou - The Last Song    0.600351\n",
       "Fullmetal Alchemist: Brotherhood                      0.593283\n",
       "Fullmetal Alchemist                                   0.593070\n",
       "Tsubasa Chronicle 2nd Season                          0.592590\n",
       "Concrete Revolutio: Choujin Gensou                    0.592384\n",
       "Hunter x Hunter                                       0.584950\n",
       "Shin Mazinger Shougeki! Z-hen                         0.583837\n",
       "Darwin's Game                                         0.583165\n",
       "Gunjou no Magmell                                     0.582772\n",
       "Kujira no Kora wa Sajou ni Utau                       0.582052\n",
       "Name: Shingeki no Kyojin Season 3 Part 2, dtype: float64"
      ]
     },
     "metadata": {},
     "execution_count": 14
    }
   ],
   "source": [
    "# Adding cosine_sim column\n",
    "anime = 'Shingeki no Kyojin Season 3 Part 2'\n",
    "cosine_sim_content[anime].sort_values(ascending=False)[1:20]"
   ]
  },
  {
   "source": [
    "# Collaborative recommender"
   ],
   "cell_type": "markdown",
   "metadata": {}
  },
  {
   "cell_type": "code",
   "execution_count": 15,
   "metadata": {},
   "outputs": [],
   "source": [
    "# Reading user_cleaned.csv\n",
    "user_df = pd.read_csv(\"../data/user_cleaned.csv\")"
   ]
  },
  {
   "cell_type": "code",
   "execution_count": 16,
   "metadata": {},
   "outputs": [],
   "source": [
    "# Only including anime\n",
    "user_df = user_df.loc[user_df['type']=='TV']"
   ]
  },
  {
   "cell_type": "code",
   "execution_count": 17,
   "metadata": {},
   "outputs": [],
   "source": [
    "# Dropping users who are collected more than once (users who are part of multiple clubs)\n",
    "user_df = user_df.drop_duplicates(subset=['username', 'title'], keep='first')"
   ]
  },
  {
   "cell_type": "code",
   "execution_count": 18,
   "metadata": {},
   "outputs": [
    {
     "output_type": "execute_result",
     "data": {
      "text/plain": [
       "           username  mal_id                 title  score type\n",
       "2  --hasuki_komai--    6682                11eyes      6   TV\n",
       "4  --hasuki_komai--   38101  5-toubun no Hanayome      6   TV\n",
       "5  --hasuki_komai--   25397          Absolute Duo      6   TV\n",
       "6  --hasuki_komai--   11759           Accel World      6   TV\n",
       "8  --hasuki_komai--   34881              Aho Girl      5   TV"
      ],
      "text/html": "<div>\n<style scoped>\n    .dataframe tbody tr th:only-of-type {\n        vertical-align: middle;\n    }\n\n    .dataframe tbody tr th {\n        vertical-align: top;\n    }\n\n    .dataframe thead th {\n        text-align: right;\n    }\n</style>\n<table border=\"1\" class=\"dataframe\">\n  <thead>\n    <tr style=\"text-align: right;\">\n      <th></th>\n      <th>username</th>\n      <th>mal_id</th>\n      <th>title</th>\n      <th>score</th>\n      <th>type</th>\n    </tr>\n  </thead>\n  <tbody>\n    <tr>\n      <th>2</th>\n      <td>--hasuki_komai--</td>\n      <td>6682</td>\n      <td>11eyes</td>\n      <td>6</td>\n      <td>TV</td>\n    </tr>\n    <tr>\n      <th>4</th>\n      <td>--hasuki_komai--</td>\n      <td>38101</td>\n      <td>5-toubun no Hanayome</td>\n      <td>6</td>\n      <td>TV</td>\n    </tr>\n    <tr>\n      <th>5</th>\n      <td>--hasuki_komai--</td>\n      <td>25397</td>\n      <td>Absolute Duo</td>\n      <td>6</td>\n      <td>TV</td>\n    </tr>\n    <tr>\n      <th>6</th>\n      <td>--hasuki_komai--</td>\n      <td>11759</td>\n      <td>Accel World</td>\n      <td>6</td>\n      <td>TV</td>\n    </tr>\n    <tr>\n      <th>8</th>\n      <td>--hasuki_komai--</td>\n      <td>34881</td>\n      <td>Aho Girl</td>\n      <td>5</td>\n      <td>TV</td>\n    </tr>\n  </tbody>\n</table>\n</div>"
     },
     "metadata": {},
     "execution_count": 18
    }
   ],
   "source": [
    "# Viewing first 5 rows of user_df\n",
    "user_df.head()"
   ]
  },
  {
   "cell_type": "code",
   "execution_count": 19,
   "metadata": {
    "ExecuteTime": {
     "end_time": "2021-02-26T13:19:57.108953Z",
     "start_time": "2021-02-26T13:19:41.652491Z"
    }
   },
   "outputs": [],
   "source": [
    "# Creating a pivot table for collaborative recommender\n",
    "pivot = user_df.pivot_table(values='score', index='title', columns='username')"
   ]
  },
  {
   "cell_type": "code",
   "execution_count": 20,
   "metadata": {},
   "outputs": [],
   "source": [
    "# Dropping users without any anime reviews\n",
    "pivot = pivot.dropna(axis=0, how='all')"
   ]
  },
  {
   "cell_type": "code",
   "execution_count": 21,
   "metadata": {},
   "outputs": [],
   "source": [
    "# Filling NaN with 0s\n",
    "pivot = pivot.fillna(0)"
   ]
  },
  {
   "cell_type": "code",
   "execution_count": 22,
   "metadata": {},
   "outputs": [],
   "source": [
    "# Identifying animes from user_df that are in top_anime and\n",
    "# identifying animes from user_df that are not in top_anime\n",
    "\n",
    "include_anime = []\n",
    "drop_anime = []\n",
    "for title in user_df['title'].unique():\n",
    "    if title in df['title'].unique():\n",
    "        include_anime.append(title)\n",
    "    else:\n",
    "        drop_anime.append(title)\n",
    "\n",
    "# Dropping animes that are not in top_anime\n",
    "pivot = pivot.drop(drop_anime)"
   ]
  },
  {
   "cell_type": "code",
   "execution_count": 23,
   "metadata": {},
   "outputs": [],
   "source": [
    "# Cosine similarity matrix\n",
    "cosine_sim_collab = pd.DataFrame(cosine_similarity(pivot, pivot), index=pivot.index, columns=pivot.index)"
   ]
  },
  {
   "cell_type": "code",
   "execution_count": 24,
   "metadata": {},
   "outputs": [
    {
     "output_type": "execute_result",
     "data": {
      "text/plain": [
       "title\n",
       "Shingeki no Kyojin Season 3                                   0.902848\n",
       "Shingeki no Kyojin Season 2                                   0.785268\n",
       "Shingeki no Kyojin                                            0.628497\n",
       "Yakusoku no Neverland                                         0.618638\n",
       "Kimetsu no Yaiba                                              0.611241\n",
       "One Punch Man 2nd Season                                      0.546410\n",
       "One Punch Man                                                 0.532382\n",
       "Seishun Buta Yarou wa Bunny Girl Senpai no Yume wo Minai      0.531824\n",
       "Boku no Hero Academia 3rd Season                              0.525024\n",
       "Re:Zero kara Hajimeru Isekai Seikatsu                         0.522889\n",
       "Boku no Hero Academia 2nd Season                              0.511174\n",
       "Mob Psycho 100 II                                             0.505778\n",
       "Kaguya-sama wa Kokurasetai: Tensai-tachi no Renai Zunousen    0.503726\n",
       "Tokyo Ghoul                                                   0.499381\n",
       "Tate no Yuusha no Nariagari                                   0.497348\n",
       "Boku no Hero Academia                                         0.495689\n",
       "Vinland Saga                                                  0.493106\n",
       "Re:Zero kara Hajimeru Isekai Seikatsu 2nd Season              0.489003\n",
       "Boku no Hero Academia 4th Season                              0.483824\n",
       "Name: Shingeki no Kyojin Season 3 Part 2, dtype: float64"
      ]
     },
     "metadata": {},
     "execution_count": 24
    }
   ],
   "source": [
    "cosine_sim_collab[anime].sort_values(ascending=False)[1:20]"
   ]
  }
 ],
 "metadata": {
  "kernelspec": {
   "display_name": "Python 3",
   "language": "python",
   "name": "python3"
  },
  "language_info": {
   "codemirror_mode": {
    "name": "ipython",
    "version": 3
   },
   "file_extension": ".py",
   "mimetype": "text/x-python",
   "name": "python",
   "nbconvert_exporter": "python",
   "pygments_lexer": "ipython3",
   "version": "3.8.5-final"
  }
 },
 "nbformat": 4,
 "nbformat_minor": 4
}